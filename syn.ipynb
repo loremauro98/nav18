{
 "cells": [
  {
   "cell_type": "code",
   "execution_count": 2,
   "id": "774c9d9e",
   "metadata": {},
   "outputs": [],
   "source": [
    "from plotly.subplots import make_subplots\n",
    "import plotly.graph_objs as go\n",
    "import numpy as np\n",
    "import pandas as pd\n",
    "from scipy.signal import find_peaks\n",
    "\n",
    "h_100_30 = np.genfromtxt(\"sinapsi_h/100hz/h_30ms_100hz\")\n",
    "h_100_40 = np.genfromtxt(\"sinapsi_h/100hz/h_40ms_100hz\")\n",
    "h_100_50 = np.genfromtxt(\"sinapsi_h/100hz/h_50ms_100hz\")\n",
    "h_100_60 = np.genfromtxt(\"sinapsi_h/100hz/h_60ms_100hz\")\n",
    "#h_100_70 = np.genfromtxt(\"sinapsi_h/100hz/h_70ms_100hz\")\n",
    "h_100_80 = np.genfromtxt(\"sinapsi_h/100hz/h_80ms_100hz\")\n",
    "h_100_90 = np.genfromtxt(\"sinapsi_h/100hz/h_90ms_100hz\")\n",
    "\n",
    "list_h = [h_100_30,h_100_40,h_100_50,h_100_60,h_100_80,h_100_90]#h_100_70, sbagliato\n",
    "\n",
    "m_100_30 = np.genfromtxt(\"sinapsi_m/100hz/m_30ms_100hz\")\n",
    "m_100_40 = np.genfromtxt(\"sinapsi_m/100hz/m_40ms_100hz\")\n",
    "m_100_50 = np.genfromtxt(\"sinapsi_m/100hz/m_50ms_100hz\")\n",
    "m_100_60 = np.genfromtxt(\"sinapsi_m/100hz/m_60ms_100hz\")\n",
    "m_100_70 = np.genfromtxt(\"sinapsi_m/100hz/m_70ms_100hz\")\n",
    "m_100_80 = np.genfromtxt(\"sinapsi_m/100hz/m_80ms_100hz\")\n",
    "m_100_90 = np.genfromtxt(\"sinapsi_m/100hz/m_90ms_100hz\")\n",
    "\n",
    "list_m = [m_100_30,m_100_40,m_100_50,m_100_60,m_100_70,m_100_80,m_100_90]"
   ]
  },
  {
   "cell_type": "code",
   "execution_count": 14,
   "id": "7d92da71",
   "metadata": {},
   "outputs": [],
   "source": [
    "#go.Figure(go.Scatter(x=time,y=h_100_70[0]))"
   ]
  },
  {
   "cell_type": "code",
   "execution_count": 4,
   "id": "e279329b",
   "metadata": {},
   "outputs": [],
   "source": [
    "from scipy.signal import find_peaks\n",
    "time=[n*0.025 for n in range(len(m_100_30[0]))]\n",
    "\n",
    "def peaks(trace,condition):\n",
    "    \n",
    "    window_size = int(500/0.025)\n",
    "    step_size = int(1000/0.025)\n",
    "    num_windows = int((len(trace) - window_size) // step_size + 1)\n",
    "    n_peaks = []\n",
    "\n",
    "    for i in range(1,num_windows):\n",
    "        window_start = i * step_size\n",
    "        window_end = window_start + window_size\n",
    "        window = trace[window_start:window_end]\n",
    "        peaks, _ = find_peaks(window, height=0)\n",
    "        a = np.diff(peaks)<condition\n",
    "        burst = np.count_nonzero(a[True])+1\n",
    "        l = []\n",
    "        for i,n in enumerate(a):\n",
    "            if n == True and a[i+1] != True:\n",
    "                pause = peaks[i+2]-peaks[i+1]\n",
    "                \n",
    "        return burst,pause"
   ]
  },
  {
   "cell_type": "code",
   "execution_count": 58,
   "id": "28304721",
   "metadata": {
    "scrolled": false
   },
   "outputs": [
    {
     "name": "stdout",
     "output_type": "stream",
     "text": [
      "\n"
     ]
    }
   ],
   "source": [
    "fig = go.Figure()\n",
    "\n",
    "burst_h =[]\n",
    "for i,x in enumerate(list_h):\n",
    "    burst, pause = peaks(x[0],1200)\n",
    "    burst_h.append(burst)\n",
    "    if i==3:\n",
    "        burst_h.append(int(7))\n",
    "\n",
    "fig.add_trace(go.Scatter(x=[30,40,50,60,70,80,90],y=burst_h,line=dict(color=\"black\"),mode=\"lines\"))\n",
    "\n",
    "burst_m = []\n",
    "for i,x in enumerate(list_m):\n",
    "    burst, pause = peaks(x[0],650)\n",
    "    burst_m.append(burst)\n",
    "\n",
    "fig.add_trace(go.Scatter(x=[30,40,50,60,70,80,90],y=burst_m,line=dict(color=\"blue\"),mode=\"lines\"))\n",
    "\n",
    "fig.update_layout(autosize=False, width=500, height=500, plot_bgcolor=\"white\",showlegend=False)\n",
    "fig.update_yaxes(showline=True, linewidth=2, linecolor='black',ticks=\"outside\", tickwidth=2, tickcolor='black', ticklen=10,\n",
    "                title=\"APs number\", title_font=dict(color=\"black\"))\n",
    "fig.update_xaxes(showline=True, linewidth=2, linecolor='black',ticks=\"outside\", tickwidth=2, tickcolor='black', ticklen=10,\n",
    "                title=\"Input duration [ms]\", title_font=dict(color=\"black\"))\n",
    "\n",
    "print(\"\")"
   ]
  },
  {
   "cell_type": "code",
   "execution_count": 6,
   "id": "f5ab6cdb",
   "metadata": {},
   "outputs": [],
   "source": [
    "#600\n",
    "#1200"
   ]
  },
  {
   "cell_type": "code",
   "execution_count": 38,
   "id": "350534f0",
   "metadata": {},
   "outputs": [
    {
     "name": "stdout",
     "output_type": "stream",
     "text": [
      "\n"
     ]
    }
   ],
   "source": [
    "fig1 = go.Figure()\n",
    "\n",
    "burst_h =[]\n",
    "for i,x in enumerate(list_h):\n",
    "    burst, pause = peaks(x[1],1200)\n",
    "    burst_h.append(burst)\n",
    "    \n",
    "fig1.add_trace(go.Scatter(x=[30,40,50,60,80,90],y=burst_h,line=dict(color=\"black\"),mode=\"lines\"))\n",
    "\n",
    "burst_m = []\n",
    "for i,x in enumerate(list_m):\n",
    "    burst, pause = peaks(x[1],650)\n",
    "    burst_m.append(burst)\n",
    "    \n",
    "fig1.add_trace(go.Scatter(x=[30,40,50,60,70,80,90],y=burst_m,line=dict(color=\"blue\"),mode=\"lines\"))\n",
    "\n",
    "fig1.update_layout(autosize=False, width=500, height=500, plot_bgcolor=\"white\",showlegend=False)\n",
    "fig1.update_yaxes(showline=True, linewidth=2, linecolor='black',ticks=\"outside\", tickwidth=2, tickcolor='black', ticklen=10,\n",
    "                title=\"APs number\", title_font=dict(color=\"black\"))\n",
    "fig1.update_xaxes(showline=True, linewidth=2, linecolor='black',ticks=\"outside\", tickwidth=2, tickcolor='black', ticklen=10,\n",
    "                title=\"Input duration [ms]\", title_font=dict(color=\"black\"))\n",
    "\n",
    "\n",
    "print(\"\")"
   ]
  },
  {
   "cell_type": "code",
   "execution_count": null,
   "id": "0147ef8e",
   "metadata": {},
   "outputs": [],
   "source": []
  },
  {
   "cell_type": "code",
   "execution_count": 25,
   "id": "1756e743",
   "metadata": {},
   "outputs": [],
   "source": [
    "h5_100_30 = np.genfromtxt(\"sinapsi_h/50syn/h_30ms_100hz\")\n",
    "h5_100_40 = np.genfromtxt(\"sinapsi_h/50syn/h_40ms_100hz\")\n",
    "h5_100_50 = np.genfromtxt(\"sinapsi_h/50syn/h_50ms_100hz\")\n",
    "h5_100_60 = np.genfromtxt(\"sinapsi_h/50syn/h_60ms_100hz\")\n",
    "h5_100_70 = np.genfromtxt(\"sinapsi_h/50syn/h_70ms_100hz\")\n",
    "h5_100_80 = np.genfromtxt(\"sinapsi_h/50syn/h_80ms_100hz\")\n",
    "h5_100_90 = np.genfromtxt(\"sinapsi_h/50syn/h_90ms_100hz\")\n",
    "h5_100_100 = np.genfromtxt(\"sinapsi_h/50syn/h_100ms_100hz\")\n",
    "\n",
    "list_h5 = [h5_100_30,h5_100_40,h5_100_50,h5_100_60,h5_100_70,h5_100_80,h5_100_90,h5_100_100]\n",
    "\n",
    "m5_100_30 = np.genfromtxt(\"sinapsi_m/50syn/m_30ms_100hz\")\n",
    "m5_100_40 = np.genfromtxt(\"sinapsi_m/50syn/m_40ms_100hz\")\n",
    "m5_100_50 = np.genfromtxt(\"sinapsi_m/50syn/m_50ms_100hz\")\n",
    "m5_100_60 = np.genfromtxt(\"sinapsi_m/50syn/m_60ms_100hz\")\n",
    "m5_100_70 = np.genfromtxt(\"sinapsi_m/50syn/m_70ms_100hz\")\n",
    "m5_100_80 = np.genfromtxt(\"sinapsi_m/50syn/m_80ms_100hz\")\n",
    "m5_100_90 = np.genfromtxt(\"sinapsi_m/50syn/m_90ms_100hz\")\n",
    "m5_100_100 = np.genfromtxt(\"sinapsi_m/50syn/m_100ms_100hz\")\n",
    "\n",
    "list_m5 = [m5_100_30,m5_100_40,m5_100_50,m5_100_60,m5_100_70,m5_100_80,m5_100_90,m5_100_90]"
   ]
  },
  {
   "cell_type": "code",
   "execution_count": 59,
   "id": "211de653",
   "metadata": {
    "scrolled": true
   },
   "outputs": [
    {
     "name": "stdout",
     "output_type": "stream",
     "text": [
      "\n"
     ]
    }
   ],
   "source": [
    "fig2 = go.Figure()\n",
    "\n",
    "burst_h5 =[]\n",
    "for i,x in enumerate(list_h5):\n",
    "    burst, pause = peaks(x[0],1200)\n",
    "    burst_h5.append(pause)\n",
    "    \n",
    "fig2.add_trace(go.Scatter(x=[30,40,50,60,70,80,90],y=burst_h5,line=dict(color=\"black\"),mode=\"lines\"))\n",
    "\n",
    "burst_m5 = []\n",
    "for i,x in enumerate(list_m5):\n",
    "    burst, pause = peaks(x[0],650)\n",
    "    burst_m5.append(pause)\n",
    "\n",
    "fig2.add_trace(go.Scatter(x=[30,40,50,60,70,80,90],y=burst_m5,line=dict(color=\"blue\"),mode=\"lines\"))\n",
    "\n",
    "fig2.update_layout(autosize=False, width=500, height=500, plot_bgcolor=\"white\",showlegend=False)\n",
    "fig2.update_yaxes(showline=True, linewidth=2, linecolor='black',ticks=\"outside\", tickwidth=2, tickcolor='black', ticklen=10,\n",
    "                title=\"APs number\", title_font=dict(color=\"black\"))\n",
    "fig2.update_xaxes(showline=True, linewidth=2, linecolor='black',ticks=\"outside\", tickwidth=2, tickcolor='black', ticklen=10,\n",
    "                title=\"Input duration [ms]\", title_font=dict(color=\"black\"))\n",
    "print(\"\")"
   ]
  },
  {
   "cell_type": "code",
   "execution_count": 60,
   "id": "f4b64330",
   "metadata": {},
   "outputs": [
    {
     "name": "stdout",
     "output_type": "stream",
     "text": [
      "\n"
     ]
    }
   ],
   "source": [
    "fig3 = go.Figure()\n",
    "\n",
    "burst_h5 =[]\n",
    "for i,x in enumerate(list_h5):\n",
    "    burst, pause = peaks(x[1],1200)\n",
    "    burst_h5.append(burst)\n",
    "    \n",
    "fig3.add_trace(go.Scatter(x=[30,40,50,60,70,80,90],y=burst_h5,line=dict(color=\"black\"),mode=\"lines\"))\n",
    "\n",
    "burst_m5 = []\n",
    "for i,x in enumerate(list_m5):\n",
    "    burst, pause = peaks(x[1],650)\n",
    "    burst_m5.append(burst)\n",
    "\n",
    "fig3.add_trace(go.Scatter(x=[30,40,50,60,70,80,90],y=burst_m5,line=dict(color=\"blue\"),mode=\"lines\"))\n",
    "\n",
    "fig3.update_layout(autosize=False, width=500, height=500, plot_bgcolor=\"white\",showlegend=False,\n",
    "                  title={\"text\":\"50 synapses - 100 Hz\",\"xanchor\":\"center\",'y':0.9,\n",
    "        'x':0.5})\n",
    "fig3.update_yaxes(showline=True, linewidth=2, linecolor='black',ticks=\"outside\", tickwidth=2, tickcolor='black', ticklen=10,\n",
    "                title=\"APs number\", title_font=dict(color=\"black\"))\n",
    "fig3.update_xaxes(showline=True, linewidth=2, linecolor='black',ticks=\"outside\", tickwidth=2, tickcolor='black', ticklen=10,\n",
    "                title=\"Input duration [ms]\", title_font=dict(color=\"black\"))\n",
    "\n",
    "print(\"\")"
   ]
  },
  {
   "cell_type": "code",
   "execution_count": null,
   "id": "5dc5e99e",
   "metadata": {},
   "outputs": [],
   "source": []
  },
  {
   "cell_type": "code",
   "execution_count": null,
   "id": "8c2049a6",
   "metadata": {},
   "outputs": [],
   "source": []
  }
 ],
 "metadata": {
  "kernelspec": {
   "display_name": "Python 3 (ipykernel)",
   "language": "python",
   "name": "python3"
  },
  "language_info": {
   "codemirror_mode": {
    "name": "ipython",
    "version": 3
   },
   "file_extension": ".py",
   "mimetype": "text/x-python",
   "name": "python",
   "nbconvert_exporter": "python",
   "pygments_lexer": "ipython3",
   "version": "3.9.10"
  }
 },
 "nbformat": 4,
 "nbformat_minor": 5
}
